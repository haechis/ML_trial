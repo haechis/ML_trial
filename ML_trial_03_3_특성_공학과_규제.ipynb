{
  "nbformat": 4,
  "nbformat_minor": 0,
  "metadata": {
    "colab": {
      "name": "ML_trial_03_3_특성 공학과 규제.ipynb",
      "provenance": [],
      "authorship_tag": "ABX9TyNi4ZCaBha3J0kSQgsxfVfl",
      "include_colab_link": true
    },
    "kernelspec": {
      "name": "python3",
      "display_name": "Python 3"
    },
    "language_info": {
      "name": "python"
    }
  },
  "cells": [
    {
      "cell_type": "markdown",
      "metadata": {
        "id": "view-in-github",
        "colab_type": "text"
      },
      "source": [
        "<a href=\"https://colab.research.google.com/github/haechis/ML_trial/blob/main/ML_trial_03_3_%ED%8A%B9%EC%84%B1_%EA%B3%B5%ED%95%99%EA%B3%BC_%EA%B7%9C%EC%A0%9C.ipynb\" target=\"_parent\"><img src=\"https://colab.research.google.com/assets/colab-badge.svg\" alt=\"Open In Colab\"/></a>"
      ]
    },
    {
      "cell_type": "markdown",
      "source": [
        "# 특성 공학과 규제\n",
        "\n",
        "- 선형 회귀\n",
        "\n",
        "선형 회귀는 특성이 많을수록 엄청난 효과를 냅니다.\n",
        "\n",
        "- 다중 회귀\n",
        "\n",
        "선형 회귀를 사용할 때는 하나의 특성을 사용하였습니다.\n",
        "하나의 특성을 사용했을 때 선형 회귀 모델이 학습하는 것은 '직선'입니다.\n",
        "\n",
        "다중 회귀는 여러 개의 특성을 사용한 선형 회귀입니다.\n",
        "\n",
        "2개의 특성을 사용했을 때 선형 회귀 모델이 학습하는 것은 '평면'입니다.\n",
        "\n",
        "y = a * x1 + b * x2 + c \n",
        "\n",
        "(where, y: 타깃, x1: 특성1, x2: 특성2, c: 절편)\n",
        "\n",
        "특성이 많은 고차원에서는 선형 회귀가 매우 복잡한 모델을 표현할 수 있습니다.\n",
        "\n",
        "- 특성 공학 (feature engineerign)\n",
        "\n",
        "농어 예제의 경우 길이와 높이와 같은 특성 외에 '농어의 길이 x 농어의 높이'를 새로운 특성으로 만드는 것을 특성 공학이라고 합니다."
      ],
      "metadata": {
        "id": "mK23fl4smtb0"
      }
    },
    {
      "cell_type": "markdown",
      "source": [
        "# 데이터 준비\n",
        "\n",
        "- 판다스\n",
        "\n",
        "데이터 분석 라이브러리입니다. 데이터프레임(dataframe)은 판다스의 핵심 데이터 구조입니다.  \n",
        "\n",
        "csv 파일을 손쉽게 배열로 변환할 수 있습니다. "
      ],
      "metadata": {
        "id": "ul8zEr3bmtfU"
      }
    },
    {
      "cell_type": "code",
      "source": [
        "import pandas as pd # pd는 관례적인 판다스의 별칭입니다.\n",
        "df = pd.read_csv('https://bit.ly/perch_csv_data')\n",
        "perch_full = df.to_numpy()\n",
        "print(perch_full)\n",
        "# 농어의\n",
        "# c1(길이), c2(높이), c3(두께)"
      ],
      "metadata": {
        "colab": {
          "base_uri": "https://localhost:8080/"
        },
        "id": "7MekDRYnoAG4",
        "outputId": "07a3bb24-8ceb-47f3-bb89-931097fc341a"
      },
      "execution_count": 1,
      "outputs": [
        {
          "output_type": "stream",
          "name": "stdout",
          "text": [
            "[[ 8.4   2.11  1.41]\n",
            " [13.7   3.53  2.  ]\n",
            " [15.    3.82  2.43]\n",
            " [16.2   4.59  2.63]\n",
            " [17.4   4.59  2.94]\n",
            " [18.    5.22  3.32]\n",
            " [18.7   5.2   3.12]\n",
            " [19.    5.64  3.05]\n",
            " [19.6   5.14  3.04]\n",
            " [20.    5.08  2.77]\n",
            " [21.    5.69  3.56]\n",
            " [21.    5.92  3.31]\n",
            " [21.    5.69  3.67]\n",
            " [21.3   6.38  3.53]\n",
            " [22.    6.11  3.41]\n",
            " [22.    5.64  3.52]\n",
            " [22.    6.11  3.52]\n",
            " [22.    5.88  3.52]\n",
            " [22.    5.52  4.  ]\n",
            " [22.5   5.86  3.62]\n",
            " [22.5   6.79  3.62]\n",
            " [22.7   5.95  3.63]\n",
            " [23.    5.22  3.63]\n",
            " [23.5   6.28  3.72]\n",
            " [24.    7.29  3.72]\n",
            " [24.    6.38  3.82]\n",
            " [24.6   6.73  4.17]\n",
            " [25.    6.44  3.68]\n",
            " [25.6   6.56  4.24]\n",
            " [26.5   7.17  4.14]\n",
            " [27.3   8.32  5.14]\n",
            " [27.5   7.17  4.34]\n",
            " [27.5   7.05  4.34]\n",
            " [27.5   7.28  4.57]\n",
            " [28.    7.82  4.2 ]\n",
            " [28.7   7.59  4.64]\n",
            " [30.    7.62  4.77]\n",
            " [32.8  10.03  6.02]\n",
            " [34.5  10.26  6.39]\n",
            " [35.   11.49  7.8 ]\n",
            " [36.5  10.88  6.86]\n",
            " [36.   10.61  6.74]\n",
            " [37.   10.84  6.26]\n",
            " [37.   10.57  6.37]\n",
            " [39.   11.14  7.49]\n",
            " [39.   11.14  6.  ]\n",
            " [39.   12.43  7.35]\n",
            " [40.   11.93  7.11]\n",
            " [40.   11.73  7.22]\n",
            " [40.   12.38  7.46]\n",
            " [40.   11.14  6.63]\n",
            " [42.   12.8   6.87]\n",
            " [43.   11.93  7.28]\n",
            " [43.   12.51  7.42]\n",
            " [43.5  12.6   8.14]\n",
            " [44.   12.49  7.6 ]]\n"
          ]
        }
      ]
    },
    {
      "cell_type": "code",
      "source": [
        "# 타깃 데이터\n",
        "import numpy as np\n",
        "perch_length = np.array([8.4, 13.7, 15.0, 16.2, 17.4, 18.0, 18.7, 19.0, 19.6, 20.0, 21.0,\n",
        "       21.0, 21.0, 21.3, 22.0, 22.0, 22.0, 22.0, 22.0, 22.5, 22.5, 22.7,\n",
        "       23.0, 23.5, 24.0, 24.0, 24.6, 25.0, 25.6, 26.5, 27.3, 27.5, 27.5,\n",
        "       27.5, 28.0, 28.7, 30.0, 32.8, 34.5, 35.0, 36.5, 36.0, 37.0, 37.0,\n",
        "       39.0, 39.0, 39.0, 40.0, 40.0, 40.0, 40.0, 42.0, 43.0, 43.0, 43.5,\n",
        "       44.0])\n",
        "perch_weight = np.array([5.9, 32.0, 40.0, 51.5, 70.0, 100.0, 78.0, 80.0, 85.0, 85.0, 110.0,\n",
        "       115.0, 125.0, 130.0, 120.0, 120.0, 130.0, 135.0, 110.0, 130.0,\n",
        "       150.0, 145.0, 150.0, 170.0, 225.0, 145.0, 188.0, 180.0, 197.0,\n",
        "       218.0, 300.0, 260.0, 265.0, 250.0, 250.0, 300.0, 320.0, 514.0,\n",
        "       556.0, 840.0, 685.0, 700.0, 700.0, 690.0, 900.0, 650.0, 820.0,\n",
        "       850.0, 900.0, 1015.0, 820.0, 1100.0, 1000.0, 1100.0, 1000.0,\n",
        "       1000.0])"
      ],
      "metadata": {
        "id": "M_SaJ-NKoR20"
      },
      "execution_count": 3,
      "outputs": []
    },
    {
      "cell_type": "code",
      "source": [
        "# perch_full과 perch_weight를 훈련 세트와 테스트 세트로 나눕니다.\n",
        "from sklearn.model_selection import train_test_split\n",
        "train_input, test_input, train_target, test_target = train_test_split(perch_full, perch_weight, random_state = 42)"
      ],
      "metadata": {
        "id": "w40sNueYoymo"
      },
      "execution_count": 4,
      "outputs": []
    },
    {
      "cell_type": "markdown",
      "source": [
        "- 사이킷런의 변환기\n",
        "\n",
        "변환기(transformer): 사이킷런은 특성을 만들거나 전처리하기 위한 다양한 클래스 제공합니다. \n",
        "\n",
        "여러 변환기 중에서 sklearn.preprocessing 패키지의 PolynomialFeatures 클래스를 사용하겠습니다."
      ],
      "metadata": {
        "id": "glFSLgk-pMAE"
      }
    },
    {
      "cell_type": "code",
      "source": [
        "from sklearn.preprocessing import PolynomialFeatures\n",
        "\n",
        "poly = PolynomialFeatures()\n",
        "## poly.fit\n",
        "# 2와 3의 특성공학을 이용하여 만들 수 있는 조합을 구합니다.\n",
        "poly.fit([[2,3]])\n",
        "# 1(기본), 2, 3, 4(2x2), 6(2x3), 9(3x3)\n",
        "print(poly.transform([[2,3]]))"
      ],
      "metadata": {
        "colab": {
          "base_uri": "https://localhost:8080/"
        },
        "id": "56JU6e3pq8Gq",
        "outputId": "27c8ef18-5ebc-4c37-96f8-7c8e778e88cd"
      },
      "execution_count": 5,
      "outputs": [
        {
          "output_type": "stream",
          "name": "stdout",
          "text": [
            "[[1. 2. 3. 4. 6. 9.]]\n"
          ]
        }
      ]
    },
    {
      "cell_type": "code",
      "source": [
        "# poly.fit에서 절편을 의미하는 1(기본)을 제외하려면 아래와 같은 방법을 사용하면 됩니다.\n",
        "poly = PolynomialFeatures(include_bias = False)\n",
        "poly.fit([[2,3]])\n",
        "print(poly.transform([[2,3]]))"
      ],
      "metadata": {
        "colab": {
          "base_uri": "https://localhost:8080/"
        },
        "id": "YOxKx2-yrmh6",
        "outputId": "7c62324f-abd8-46b1-9c3d-079f8c6ec698"
      },
      "execution_count": 6,
      "outputs": [
        {
          "output_type": "stream",
          "name": "stdout",
          "text": [
            "[[2. 3. 4. 6. 9.]]\n"
          ]
        }
      ]
    },
    {
      "cell_type": "code",
      "source": [
        "## 위에서 알아본 내용을 이용하여 train_input을 변환한 데이터를 train_poly에 저장하고 배열의 크기를 확인하겠습니다.\n",
        "poly = PolynomialFeatures(include_bias = False)\n",
        "poly.fit(train_input)\n",
        "train_poly = poly.transform(train_input)\n",
        "print(train_poly.shape)"
      ],
      "metadata": {
        "colab": {
          "base_uri": "https://localhost:8080/"
        },
        "id": "wtIDELlRr2m_",
        "outputId": "54fd96c7-01e1-4574-b5d1-7ee55e7b6179"
      },
      "execution_count": 7,
      "outputs": [
        {
          "output_type": "stream",
          "name": "stdout",
          "text": [
            "(42, 9)\n"
          ]
        }
      ]
    },
    {
      "cell_type": "code",
      "source": [
        "# 9개의 특성이 어떻게 만들어졌는지 확인해 보겠습니다.\n",
        "poly.get_feature_names_out()"
      ],
      "metadata": {
        "colab": {
          "base_uri": "https://localhost:8080/"
        },
        "id": "r2j_0U8FsPMo",
        "outputId": "86b16013-7de5-4a30-9f63-fd8e6255de44"
      },
      "execution_count": 8,
      "outputs": [
        {
          "output_type": "execute_result",
          "data": {
            "text/plain": [
              "array(['x0', 'x1', 'x2', 'x0^2', 'x0 x1', 'x0 x2', 'x1^2', 'x1 x2',\n",
              "       'x2^2'], dtype=object)"
            ]
          },
          "metadata": {},
          "execution_count": 8
        }
      ]
    },
    {
      "cell_type": "code",
      "source": [
        "# 테스트 세트도 동일하게 변환하겠습니다.\n",
        "test_poly = poly.transform(test_input)\n",
        "# !! 훈련 세트를 기준으로 테스트 세트를 변환!!"
      ],
      "metadata": {
        "id": "ln37vaaCsY1P"
      },
      "execution_count": 10,
      "outputs": []
    }
  ]
}