{
  "nbformat": 4,
  "nbformat_minor": 0,
  "metadata": {
    "colab": {
      "name": "ML_trial_03_3_특성 공학과 규제.ipynb",
      "provenance": [],
      "collapsed_sections": [],
      "authorship_tag": "ABX9TyNTSqaS3EjzLUCfgZdJv/xA",
      "include_colab_link": true
    },
    "kernelspec": {
      "name": "python3",
      "display_name": "Python 3"
    },
    "language_info": {
      "name": "python"
    }
  },
  "cells": [
    {
      "cell_type": "markdown",
      "metadata": {
        "id": "view-in-github",
        "colab_type": "text"
      },
      "source": [
        "<a href=\"https://colab.research.google.com/github/haechis/ML_trial/blob/main/ML_trial_03_3_%ED%8A%B9%EC%84%B1_%EA%B3%B5%ED%95%99%EA%B3%BC_%EA%B7%9C%EC%A0%9C.ipynb\" target=\"_parent\"><img src=\"https://colab.research.google.com/assets/colab-badge.svg\" alt=\"Open In Colab\"/></a>"
      ]
    },
    {
      "cell_type": "markdown",
      "source": [
        "# 특성 공학과 규제\n",
        "\n",
        "- 선형 회귀\n",
        "\n",
        "선형 회귀는 특성이 많을수록 엄청난 효과를 냅니다.\n",
        "\n",
        "- 다중 회귀\n",
        "\n",
        "선형 회귀를 사용할 때는 하나의 특성을 사용하였습니다.\n",
        "하나의 특성을 사용했을 때 선형 회귀 모델이 학습하는 것은 '직선'입니다.\n",
        "\n",
        "다중 회귀는 여러 개의 특성을 사용한 선형 회귀입니다.\n",
        "\n",
        "2개의 특성을 사용했을 때 선형 회귀 모델이 학습하는 것은 '평면'입니다.\n",
        "\n",
        "y = a * x1 + b * x2 + c \n",
        "\n",
        "(where, y: 타깃, x1: 특성1, x2: 특성2, c: 절편)\n",
        "\n",
        "특성이 많은 고차원에서는 선형 회귀가 매우 복잡한 모델을 표현할 수 있습니다.\n",
        "\n",
        "- 특성 공학 (feature engineerign)\n",
        "\n",
        "농어 예제의 경우 길이와 높이와 같은 특성 외에 '농어의 길이 x 농어의 높이'를 새로운 특성으로 만드는 것을 특성 공학이라고 합니다."
      ],
      "metadata": {
        "id": "mK23fl4smtb0"
      }
    },
    {
      "cell_type": "markdown",
      "source": [
        "# 데이터 준비\n",
        "\n",
        "- 판다스\n",
        "\n",
        "데이터 분석 라이브러리입니다. 데이터프레임(dataframe)은 판다스의 핵심 데이터 구조입니다.  \n",
        "\n",
        "csv 파일을 손쉽게 배열로 변환할 수 있습니다. "
      ],
      "metadata": {
        "id": "ul8zEr3bmtfU"
      }
    },
    {
      "cell_type": "markdown",
      "source": [
        "# 핵심 패키지와 함수\n",
        "- pandas: read_csv()\n",
        "\n",
        "- scikit-learn: PolynomialFeatures, Ridge, Lasso"
      ],
      "metadata": {
        "id": "HdsRwRhFN_vw"
      }
    },
    {
      "cell_type": "code",
      "source": [
        "import pandas as pd # pd는 관례적인 판다스의 별칭입니다.\n",
        "df = pd.read_csv('https://bit.ly/perch_csv_data')\n",
        "perch_full = df.to_numpy()\n",
        "print(perch_full)\n",
        "# 농어의\n",
        "# c1(길이), c2(높이), c3(두께)"
      ],
      "metadata": {
        "colab": {
          "base_uri": "https://localhost:8080/"
        },
        "id": "7MekDRYnoAG4",
        "outputId": "aada2e46-cb2e-45cc-ded5-252abd4ca795"
      },
      "execution_count": 1,
      "outputs": [
        {
          "output_type": "stream",
          "name": "stdout",
          "text": [
            "[[ 8.4   2.11  1.41]\n",
            " [13.7   3.53  2.  ]\n",
            " [15.    3.82  2.43]\n",
            " [16.2   4.59  2.63]\n",
            " [17.4   4.59  2.94]\n",
            " [18.    5.22  3.32]\n",
            " [18.7   5.2   3.12]\n",
            " [19.    5.64  3.05]\n",
            " [19.6   5.14  3.04]\n",
            " [20.    5.08  2.77]\n",
            " [21.    5.69  3.56]\n",
            " [21.    5.92  3.31]\n",
            " [21.    5.69  3.67]\n",
            " [21.3   6.38  3.53]\n",
            " [22.    6.11  3.41]\n",
            " [22.    5.64  3.52]\n",
            " [22.    6.11  3.52]\n",
            " [22.    5.88  3.52]\n",
            " [22.    5.52  4.  ]\n",
            " [22.5   5.86  3.62]\n",
            " [22.5   6.79  3.62]\n",
            " [22.7   5.95  3.63]\n",
            " [23.    5.22  3.63]\n",
            " [23.5   6.28  3.72]\n",
            " [24.    7.29  3.72]\n",
            " [24.    6.38  3.82]\n",
            " [24.6   6.73  4.17]\n",
            " [25.    6.44  3.68]\n",
            " [25.6   6.56  4.24]\n",
            " [26.5   7.17  4.14]\n",
            " [27.3   8.32  5.14]\n",
            " [27.5   7.17  4.34]\n",
            " [27.5   7.05  4.34]\n",
            " [27.5   7.28  4.57]\n",
            " [28.    7.82  4.2 ]\n",
            " [28.7   7.59  4.64]\n",
            " [30.    7.62  4.77]\n",
            " [32.8  10.03  6.02]\n",
            " [34.5  10.26  6.39]\n",
            " [35.   11.49  7.8 ]\n",
            " [36.5  10.88  6.86]\n",
            " [36.   10.61  6.74]\n",
            " [37.   10.84  6.26]\n",
            " [37.   10.57  6.37]\n",
            " [39.   11.14  7.49]\n",
            " [39.   11.14  6.  ]\n",
            " [39.   12.43  7.35]\n",
            " [40.   11.93  7.11]\n",
            " [40.   11.73  7.22]\n",
            " [40.   12.38  7.46]\n",
            " [40.   11.14  6.63]\n",
            " [42.   12.8   6.87]\n",
            " [43.   11.93  7.28]\n",
            " [43.   12.51  7.42]\n",
            " [43.5  12.6   8.14]\n",
            " [44.   12.49  7.6 ]]\n"
          ]
        }
      ]
    },
    {
      "cell_type": "code",
      "source": [
        "# 타깃 데이터\n",
        "import numpy as np\n",
        "perch_length = np.array([8.4, 13.7, 15.0, 16.2, 17.4, 18.0, 18.7, 19.0, 19.6, 20.0, 21.0,\n",
        "       21.0, 21.0, 21.3, 22.0, 22.0, 22.0, 22.0, 22.0, 22.5, 22.5, 22.7,\n",
        "       23.0, 23.5, 24.0, 24.0, 24.6, 25.0, 25.6, 26.5, 27.3, 27.5, 27.5,\n",
        "       27.5, 28.0, 28.7, 30.0, 32.8, 34.5, 35.0, 36.5, 36.0, 37.0, 37.0,\n",
        "       39.0, 39.0, 39.0, 40.0, 40.0, 40.0, 40.0, 42.0, 43.0, 43.0, 43.5,\n",
        "       44.0])\n",
        "perch_weight = np.array([5.9, 32.0, 40.0, 51.5, 70.0, 100.0, 78.0, 80.0, 85.0, 85.0, 110.0,\n",
        "       115.0, 125.0, 130.0, 120.0, 120.0, 130.0, 135.0, 110.0, 130.0,\n",
        "       150.0, 145.0, 150.0, 170.0, 225.0, 145.0, 188.0, 180.0, 197.0,\n",
        "       218.0, 300.0, 260.0, 265.0, 250.0, 250.0, 300.0, 320.0, 514.0,\n",
        "       556.0, 840.0, 685.0, 700.0, 700.0, 690.0, 900.0, 650.0, 820.0,\n",
        "       850.0, 900.0, 1015.0, 820.0, 1100.0, 1000.0, 1100.0, 1000.0,\n",
        "       1000.0])"
      ],
      "metadata": {
        "id": "M_SaJ-NKoR20"
      },
      "execution_count": 2,
      "outputs": []
    },
    {
      "cell_type": "code",
      "source": [
        "# perch_full과 perch_weight를 훈련 세트와 테스트 세트로 나눕니다.\n",
        "from sklearn.model_selection import train_test_split\n",
        "train_input, test_input, train_target, test_target = train_test_split(perch_full, perch_weight, random_state = 42)"
      ],
      "metadata": {
        "id": "w40sNueYoymo"
      },
      "execution_count": 3,
      "outputs": []
    },
    {
      "cell_type": "markdown",
      "source": [
        "- 사이킷런의 변환기\n",
        "\n",
        "변환기(transformer): 사이킷런은 특성을 만들거나 전처리하기 위한 다양한 클래스 제공합니다. \n",
        "\n",
        "여러 변환기 중에서 sklearn.preprocessing 패키지의 PolynomialFeatures 클래스를 사용하겠습니다."
      ],
      "metadata": {
        "id": "glFSLgk-pMAE"
      }
    },
    {
      "cell_type": "code",
      "source": [
        "from sklearn.preprocessing import PolynomialFeatures\n",
        "\n",
        "poly = PolynomialFeatures()\n",
        "## poly.fit\n",
        "# 2와 3의 특성공학을 이용하여 만들 수 있는 조합을 구합니다.\n",
        "poly.fit([[2,3]])\n",
        "# 1(기본), 2, 3, 4(2x2), 6(2x3), 9(3x3)\n",
        "print(poly.transform([[2,3]]))"
      ],
      "metadata": {
        "colab": {
          "base_uri": "https://localhost:8080/"
        },
        "id": "56JU6e3pq8Gq",
        "outputId": "420ba63c-0fce-4309-871c-05e51c8f3e6e"
      },
      "execution_count": 4,
      "outputs": [
        {
          "output_type": "stream",
          "name": "stdout",
          "text": [
            "[[1. 2. 3. 4. 6. 9.]]\n"
          ]
        }
      ]
    },
    {
      "cell_type": "code",
      "source": [
        "# poly.fit에서 절편을 의미하는 1(기본)을 제외하려면 아래와 같은 방법을 사용하면 됩니다.\n",
        "poly = PolynomialFeatures(include_bias = False)\n",
        "poly.fit([[2,3]])\n",
        "print(poly.transform([[2,3]]))"
      ],
      "metadata": {
        "colab": {
          "base_uri": "https://localhost:8080/"
        },
        "id": "YOxKx2-yrmh6",
        "outputId": "d0d7b97e-9d09-4799-ce34-c47a35f9fe7f"
      },
      "execution_count": 5,
      "outputs": [
        {
          "output_type": "stream",
          "name": "stdout",
          "text": [
            "[[2. 3. 4. 6. 9.]]\n"
          ]
        }
      ]
    },
    {
      "cell_type": "code",
      "source": [
        "## 위에서 알아본 내용을 이용하여 train_input을 변환한 데이터를 train_poly에 저장하고 배열의 크기를 확인하겠습니다.\n",
        "poly = PolynomialFeatures(include_bias = False)\n",
        "poly.fit(train_input)\n",
        "train_poly = poly.transform(train_input)\n",
        "print(train_poly.shape)"
      ],
      "metadata": {
        "colab": {
          "base_uri": "https://localhost:8080/"
        },
        "id": "wtIDELlRr2m_",
        "outputId": "332d02b3-5768-439c-9bf1-e29da1df3c0d"
      },
      "execution_count": 6,
      "outputs": [
        {
          "output_type": "stream",
          "name": "stdout",
          "text": [
            "(42, 9)\n"
          ]
        }
      ]
    },
    {
      "cell_type": "code",
      "source": [
        "# 9개의 특성이 어떻게 만들어졌는지 확인해 보겠습니다.\n",
        "poly.get_feature_names_out()"
      ],
      "metadata": {
        "colab": {
          "base_uri": "https://localhost:8080/"
        },
        "id": "r2j_0U8FsPMo",
        "outputId": "e10ed272-dfad-4d57-f4f1-84842608f496"
      },
      "execution_count": 7,
      "outputs": [
        {
          "output_type": "execute_result",
          "data": {
            "text/plain": [
              "array(['x0', 'x1', 'x2', 'x0^2', 'x0 x1', 'x0 x2', 'x1^2', 'x1 x2',\n",
              "       'x2^2'], dtype=object)"
            ]
          },
          "metadata": {},
          "execution_count": 7
        }
      ]
    },
    {
      "cell_type": "code",
      "source": [
        "# 테스트 세트도 동일하게 변환하겠습니다.\n",
        "test_poly = poly.transform(test_input)\n",
        "# !! 훈련 세트를 기준으로 테스트 세트를 변환!!"
      ],
      "metadata": {
        "id": "ln37vaaCsY1P"
      },
      "execution_count": 8,
      "outputs": []
    },
    {
      "cell_type": "markdown",
      "source": [
        "## 다중 회귀 모델 훈련하기\n",
        "- 다중 회귀 모델을 훈련하는 것은 선형 회귀 모델을 훈련하는 것과 같다. \n",
        "- 다만, 다중 회귀는 여러 개의 특성을 사용하여 선형 회귀를 수행하는 것입니다."
      ],
      "metadata": {
        "id": "XpYZaw3wHcjn"
      }
    },
    {
      "cell_type": "code",
      "source": [
        "# 사이킷런의 LinearRegression 클래스를 임포트하고, train_poly를 사용해 모델을 훈련해보겠습니다.\n",
        "from sklearn.linear_model import LinearRegression\n",
        "lr = LinearRegression()\n",
        "lr.fit(train_poly, train_target)\n",
        "\n",
        "\n",
        "print(lr.score(train_poly, train_target))\n",
        "## 매우 높은 점수가 나옵니다. 농어의 길이, 높이 , 두께 그리고 특성 공학을 사용하여 다중 회귀를 하였더니 훈련한 모델의 점수가 매우 높게 나옵니다."
      ],
      "metadata": {
        "colab": {
          "base_uri": "https://localhost:8080/"
        },
        "id": "KOhpqJeEHmiz",
        "outputId": "43e605f9-8872-4685-a2df-9bc2b7245f09"
      },
      "execution_count": 10,
      "outputs": [
        {
          "output_type": "stream",
          "name": "stdout",
          "text": [
            "0.9903183436982124\n"
          ]
        }
      ]
    },
    {
      "cell_type": "code",
      "source": [
        "# 이제 테스트 세트에 대한 점수도 확인해보겠습니다.\n",
        "print(lr.score(test_poly, test_target))\n",
        "## 점수는 다소 낮지만, 과소적합 문제가 사라진 것으로 보입니다!"
      ],
      "metadata": {
        "colab": {
          "base_uri": "https://localhost:8080/"
        },
        "id": "kw2-3-76IIaO",
        "outputId": "290de0ae-ae44-44ec-a9ff-44c96220da5e"
      },
      "execution_count": 11,
      "outputs": [
        {
          "output_type": "stream",
          "name": "stdout",
          "text": [
            "0.9714559911594134\n"
          ]
        }
      ]
    },
    {
      "cell_type": "code",
      "source": [
        "## 특성을 더 많이 추가하여 모델을 복잡하게 한다면 어떻게 될까요? -> 5제곱까지 특성을 만들어 보겠습니다.\n",
        "poly = PolynomialFeatures(degree = 5, include_bias = False)\n",
        "poly.fit(train_input)\n",
        "train_poly = poly.transform(train_input)\n",
        "test_poly = poly.transform(test_input)\n",
        "print(train_poly.shape)"
      ],
      "metadata": {
        "colab": {
          "base_uri": "https://localhost:8080/"
        },
        "id": "-NfvdkBaISvR",
        "outputId": "78d42c93-2429-4940-8b9e-7ac6e049236d"
      },
      "execution_count": 12,
      "outputs": [
        {
          "output_type": "stream",
          "name": "stdout",
          "text": [
            "(42, 55)\n"
          ]
        }
      ]
    },
    {
      "cell_type": "code",
      "source": [
        "lr.fit(train_poly, train_target)\n",
        "print(lr.score(train_poly,train_target))"
      ],
      "metadata": {
        "colab": {
          "base_uri": "https://localhost:8080/"
        },
        "id": "CVJVYw54Iony",
        "outputId": "6c1fc7d6-6f3b-4a3f-cb6a-7240f98e0284"
      },
      "execution_count": 13,
      "outputs": [
        {
          "output_type": "stream",
          "name": "stdout",
          "text": [
            "0.9999999999991097\n"
          ]
        }
      ]
    },
    {
      "cell_type": "code",
      "source": [
        "print(lr.score(test_poly, test_target))\n",
        "## 특성 개수가 너무 많아지니 훈련 세트에 너무 \"과대 적합\"한 결과가 나옵니다!!"
      ],
      "metadata": {
        "colab": {
          "base_uri": "https://localhost:8080/"
        },
        "id": "uGmejdiDIs0k",
        "outputId": "01c4c2ee-3189-4127-890c-74496ef0503a"
      },
      "execution_count": 14,
      "outputs": [
        {
          "output_type": "stream",
          "name": "stdout",
          "text": [
            "-144.40579242684848\n"
          ]
        }
      ]
    },
    {
      "cell_type": "markdown",
      "source": [
        "# 규제 (Regularization)\n",
        "- 모델이 훈련 세트에 과대적합되지 않도록 규제하는 것입니다.\n",
        "- 선형 회귀 모델의 경우 특성에 곱해지는 계수(또는 기울기)의 크기를 작게 만드는 \n",
        "일입니다."
      ],
      "metadata": {
        "id": "x1NPVXyyI2bi"
      }
    },
    {
      "cell_type": "markdown",
      "source": [
        "그 전에 먼저 \"정규화\"를 해야 합니다.\n",
        "이전과 같이, 평균과 표준편차를 이용하는 표준점수로 정규화 하겠습니다."
      ],
      "metadata": {
        "id": "0fUlbe5IJFfP"
      }
    },
    {
      "cell_type": "code",
      "source": [
        "## 정규화하고, 특성 공학을 적용합니다.\n",
        "from sklearn.preprocessing import StandardScaler\n",
        "ss= StandardScaler()\n",
        "ss.fit(train_poly)\n",
        "train_scaled = ss.transform(train_poly)\n",
        "test_scaled = ss.transform(test_poly)"
      ],
      "metadata": {
        "id": "yqmCXBOxJMpS"
      },
      "execution_count": 15,
      "outputs": []
    },
    {
      "cell_type": "markdown",
      "source": [
        "# 릿지 (Ridge) 와 라쏘 (Lasso)\n",
        "- 선형 회귀 모델에 규제를 추가한 모델을 릿지와 라쏘라고 합니다.\n",
        "\n",
        "# 릿지 (Ridge)\n",
        "- 계수를 제곱한 값을 기준으로 규제를 적용\n",
        "- 일반적으로 더 선호됨\n",
        "\n",
        "# 라쏘 (Lasso)\n",
        "- 계수의 절댓값을 기준으로 규제를 적용\n"
      ],
      "metadata": {
        "id": "OBjtbJorJsaY"
      }
    },
    {
      "cell_type": "code",
      "source": [
        "## ! - 릿지 회귀 - ! ##\n",
        "from sklearn.linear_model import Ridge\n",
        "ridge = Ridge()\n",
        "ridge.fit(train_scaled, train_target)\n",
        "print(ridge.score(train_scaled, train_target))"
      ],
      "metadata": {
        "colab": {
          "base_uri": "https://localhost:8080/"
        },
        "id": "7Uz08JcOJ7rS",
        "outputId": "bfead235-a1a6-4e76-f77b-e8e69f2cbccb"
      },
      "execution_count": 17,
      "outputs": [
        {
          "output_type": "stream",
          "name": "stdout",
          "text": [
            "0.9896101671037343\n"
          ]
        }
      ]
    },
    {
      "cell_type": "code",
      "source": [
        "print(ridge.score(test_scaled, test_target))"
      ],
      "metadata": {
        "colab": {
          "base_uri": "https://localhost:8080/"
        },
        "id": "X3Tu9UaIKJLh",
        "outputId": "3359bc28-2c0f-4969-dd59-456746281dd7"
      },
      "execution_count": 18,
      "outputs": [
        {
          "output_type": "stream",
          "name": "stdout",
          "text": [
            "0.9790693977615391\n"
          ]
        }
      ]
    },
    {
      "cell_type": "markdown",
      "source": [
        "# 릿지 회귀에서 하이퍼 파라미터\n",
        "alpha 값이 크면 규제 강도가 세지므로, 계수 값을 더 줄이고 조금 더 과소적합되도록 유도합니다. \n",
        "\n",
        "alpha 값이 작으면 계수를 줄이는 역할이 줄어들고 선형 회귀 모델과 유사해지므로 과대적합될 가능성이 큽니다.\n",
        "\n",
        "alpha 값이 크면 --> 더 많이 규제 한다\" --> 과소적합\n",
        "\n",
        "alpha 값이 작으면 --> 규제가 적어진다. --> 과대적합 \" 정도로 이해하실 수 있겠습니다.\n",
        "\n",
        "- 적절한 alpha 찾기!\n",
        "\n",
        "alpha에 대한 R^2 값의 그래프를 그려보면 됩니다.\n",
        "\n",
        "훈련 세트와 테스트 세트의 점수가 가장 가까운 지점이 최적의 alpha 값이 됩니다."
      ],
      "metadata": {
        "id": "PpJRENiSKNWn"
      }
    },
    {
      "cell_type": "code",
      "source": [
        "import matplotlib.pyplot as plt\n",
        "train_score = []\n",
        "test_score = []"
      ],
      "metadata": {
        "id": "dcFica7tK0rE"
      },
      "execution_count": 19,
      "outputs": []
    },
    {
      "cell_type": "code",
      "source": [
        "# alpha 값을 0.001 ~ 100 까지 10배씩 늘려가며 릿지 회귀 모델을 훈련한 다음 훈련 세트와 테스트 세트의 점수를 파이썬 리스트에 저장합니다.\n",
        "alpha_list = [0.001, 0.01, 0.1, 1, 10, 100]\n",
        "for alpha in alpha_list:\n",
        "  # 릿지 모델 만듭니다.\n",
        "  ridge = Ridge(alpha = alpha)\n",
        "  # 릿지 모델 훈련\n",
        "  ridge.fit(train_scaled, train_target)\n",
        "  # 훈련 점수와 테스트 점수를 저장합니다.\n",
        "  train_score.append(ridge.score(train_scaled, train_target))\n",
        "  test_score.append(ridge.score(test_scaled, test_target))\n",
        "\n",
        "# 가시화 합니다.\n",
        "plt.plot(alpha_list, train_score)\n",
        "plt.plot(alpha_list, test_score)\n",
        "plt.xlabel('alpha')\n",
        "plt.ylabel('R^2')\n",
        "plt.show()\n"
      ],
      "metadata": {
        "colab": {
          "base_uri": "https://localhost:8080/",
          "height": 279
        },
        "id": "HwixQgWwKr2u",
        "outputId": "d49f6633-b723-4f28-c18a-fe9fe959fa08"
      },
      "execution_count": 20,
      "outputs": [
        {
          "output_type": "display_data",
          "data": {
            "text/plain": [
              "<Figure size 432x288 with 1 Axes>"
            ],
            "image/png": "[encoded data removed]"
          },
          "metadata": {
            "needs_background": "light"
          }
        }
      ]
    },
    {
      "cell_type": "code",
      "source": [
        "# 특성을 잘 확인하기 위해\n",
        "# x축에 자연로그를 취해보겠습니다.\n",
        "\n",
        "plt.plot(np.log10(alpha_list), train_score)\n",
        "plt.plot(np.log10(alpha_list), test_score)\n",
        "plt.xlabel('alpha')\n",
        "plt.ylabel('R^2')\n",
        "plt.show()"
      ],
      "metadata": {
        "colab": {
          "base_uri": "https://localhost:8080/",
          "height": 279
        },
        "id": "TaWb0ZTFLmr1",
        "outputId": "f2dd9d79-1d9a-45ac-959f-5abbba1f4ae8"
      },
      "execution_count": 21,
      "outputs": [
        {
          "output_type": "display_data",
          "data": {
            "text/plain": [
              "<Figure size 432x288 with 1 Axes>"
            ],
            "image/png": "[encoded data removed]"
          },
          "metadata": {
            "needs_background": "light"
          }
        }
      ]
    },
    {
      "cell_type": "markdown",
      "source": [
        "위 그래프에서, 트레이닝 세트와 테스트 세트의 R^2가 가장 가까운 지점은 ln(alpha) = -1 즉, alpha = 10^-1 = 0.1 입니다.\n",
        "\n",
        "따라서 alpha를 0.1로 하여 최종 모델을 훈련하겠습니다."
      ],
      "metadata": {
        "id": "mc-f9RtrLwcu"
      }
    },
    {
      "cell_type": "code",
      "source": [
        "ridge = Ridge(alpha = 0.1)\n",
        "ridge.fit(train_scaled, train_target)\n",
        "print(ridge.score(train_scaled, train_target))\n",
        "print(ridge.score(test_scaled, test_target))"
      ],
      "metadata": {
        "colab": {
          "base_uri": "https://localhost:8080/"
        },
        "id": "23ib0BgZL-bm",
        "outputId": "4554e60f-a885-42f7-8a64-1c64b03cb3f6"
      },
      "execution_count": 22,
      "outputs": [
        {
          "output_type": "stream",
          "name": "stdout",
          "text": [
            "0.9903815817570365\n",
            "0.9827976465386884\n"
          ]
        }
      ]
    },
    {
      "cell_type": "code",
      "source": [
        "## ! - 라쏘 회귀 - ! ##\n",
        "from sklearn.linear_model import Lasso\n",
        "lasso = Lasso()\n",
        "lasso.fit(train_scaled, train_target)\n",
        "print(lasso.score(train_scaled, train_target))\n",
        "print(lasso.score(test_scaled, test_target))"
      ],
      "metadata": {
        "colab": {
          "base_uri": "https://localhost:8080/"
        },
        "id": "4l0-xv2SMSri",
        "outputId": "81fcc485-f1d6-489e-9d47-597d2bd5f738"
      },
      "execution_count": 26,
      "outputs": [
        {
          "output_type": "stream",
          "name": "stdout",
          "text": [
            "0.989789897208096\n",
            "0.9800593698421883\n"
          ]
        }
      ]
    },
    {
      "cell_type": "code",
      "source": [
        "# 라쏘에서 최적의 alpha 값 구하기 #\n",
        "train_score = []\n",
        "test_score = []\n",
        "alpha_list = [0.001, 0.01, 0.1, 1, 10, 100]\n",
        "for alpha in alpha_list:\n",
        "  # 라쏘 모델 만듭니다.\n",
        "  lasso = Lasso(alpha = alpha, max_iter = 10000)\n",
        "  # 라쏘 모델 훈련\n",
        "  lasso.fit(train_scaled, train_target)\n",
        "  # 훈련 점수와 테스트 점수를 저장합니다.\n",
        "  train_score.append(lasso.score(train_scaled, train_target))\n",
        "  test_score.append(lasso.score(test_scaled, test_target))\n",
        "\n",
        "# 가시화 합니다.\n",
        "plt.plot(alpha_list, train_score)\n",
        "plt.plot(alpha_list, test_score)\n",
        "plt.xlabel('alpha')\n",
        "plt.ylabel('R^2')\n",
        "plt.show()\n"
      ],
      "metadata": {
        "colab": {
          "base_uri": "https://localhost:8080/",
          "height": 373
        },
        "id": "JQSXuMmvMwUV",
        "outputId": "a902c4ef-291b-4184-918f-457d4baab6dc"
      },
      "execution_count": 29,
      "outputs": [
        {
          "output_type": "stream",
          "name": "stderr",
          "text": [
            "/usr/local/lib/python3.7/dist-packages/sklearn/linear_model/_coordinate_descent.py:648: ConvergenceWarning: Objective did not converge. You might want to increase the number of iterations, check the scale of the features or consider increasing regularisation. Duality gap: 1.878e+04, tolerance: 5.183e+02\n",
            "  coef_, l1_reg, l2_reg, X, y, max_iter, tol, rng, random, positive\n",
            "/usr/local/lib/python3.7/dist-packages/sklearn/linear_model/_coordinate_descent.py:648: ConvergenceWarning: Objective did not converge. You might want to increase the number of iterations, check the scale of the features or consider increasing regularisation. Duality gap: 1.297e+04, tolerance: 5.183e+02\n",
            "  coef_, l1_reg, l2_reg, X, y, max_iter, tol, rng, random, positive\n"
          ]
        },
        {
          "output_type": "display_data",
          "data": {
            "text/plain": [
              "<Figure size 432x288 with 1 Axes>"
            ],
            "image/png": "[encoded data removed]"
          },
          "metadata": {
            "needs_background": "light"
          }
        }
      ]
    },
    {
      "cell_type": "code",
      "source": [
        "# 역시 자연로그를 이용합니다.\n",
        "plt.plot(np.log10(alpha_list), train_score)\n",
        "plt.plot(np.log10(alpha_list), test_score)\n",
        "plt.xlabel('alpha')\n",
        "plt.ylabel('R^2')\n",
        "plt.show()\n",
        "\n",
        "# 파란색이 훈련, 주황색이 테스트입니다.\n",
        "# 1 이후에는 테스트 세트의 점수가 훈련 세트의 점수보다 높은 구간에서 과소적합니 일어나는 것입니다.\n",
        "# 따라서 라쏘에서 alpha의 최대값은 자연로그를 1로 만드는 즉, alpha = 10입니다."
      ],
      "metadata": {
        "colab": {
          "base_uri": "https://localhost:8080/",
          "height": 279
        },
        "id": "YSZBsfM9NIl7",
        "outputId": "ddefc9e3-8f54-4213-843b-f5bf51385e9c"
      },
      "execution_count": 30,
      "outputs": [
        {
          "output_type": "display_data",
          "data": {
            "text/plain": [
              "<Figure size 432x288 with 1 Axes>"
            ],
            "image/png": "[encoded data removed]"
          },
          "metadata": {
            "needs_background": "light"
          }
        }
      ]
    },
    {
      "cell_type": "code",
      "source": [
        "lasso = Lasso(alpha = 10)\n",
        "lasso.fit(train_scaled, train_target)\n",
        "print(lasso.score(train_scaled, train_target))\n",
        "print(lasso.score(test_scaled, test_target))"
      ],
      "metadata": {
        "colab": {
          "base_uri": "https://localhost:8080/"
        },
        "id": "j3G5cC0hNimk",
        "outputId": "60fa9345-08f9-4e39-d37a-601816277a20"
      },
      "execution_count": 31,
      "outputs": [
        {
          "output_type": "stream",
          "name": "stdout",
          "text": [
            "0.9888067471131867\n",
            "0.9824470598706695\n"
          ]
        }
      ]
    },
    {
      "cell_type": "code",
      "source": [
        "print(np.sum(lasso.coef_ == 0))"
      ],
      "metadata": {
        "colab": {
          "base_uri": "https://localhost:8080/"
        },
        "id": "zLbhkuATNvd9",
        "outputId": "1d10a49a-f1d2-416d-d720-caec6b4a87e6"
      },
      "execution_count": 32,
      "outputs": [
        {
          "output_type": "stream",
          "name": "stdout",
          "text": [
            "40\n"
          ]
        }
      ]
    },
    {
      "cell_type": "markdown",
      "source": [
        "총 55개 특성 중 40개를 제외한 15개의 특성만 이용하여 학습한 것입니다.\n",
        "\n",
        "라쏘 모델을 유용한 특성을 골라내는 용도로도 사용할 수 있습니다."
      ],
      "metadata": {
        "id": "wrnTvz5CNyxv"
      }
    }
  ]
}