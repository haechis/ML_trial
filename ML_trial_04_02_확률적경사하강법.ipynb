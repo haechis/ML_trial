{
  "nbformat": 4,
  "nbformat_minor": 0,
  "metadata": {
    "colab": {
      "provenance": [],
      "authorship_tag": "ABX9TyNI5HipypqT40AP6JAFzEze",
      "include_colab_link": true
    },
    "kernelspec": {
      "name": "python3",
      "display_name": "Python 3"
    },
    "language_info": {
      "name": "python"
    }
  },
  "cells": [
    {
      "cell_type": "markdown",
      "metadata": {
        "id": "view-in-github",
        "colab_type": "text"
      },
      "source": [
        "<a href=\"https://colab.research.google.com/github/haechis/ML_trial/blob/main/ML_trial_04_02_%ED%99%95%EB%A5%A0%EC%A0%81%EA%B2%BD%EC%82%AC%ED%95%98%EA%B0%95%EB%B2%95.ipynb\" target=\"_parent\"><img src=\"https://colab.research.google.com/assets/colab-badge.svg\" alt=\"Open In Colab\"/></a>"
      ]
    },
    {
      "cell_type": "markdown",
      "source": [
        "#04-2 확률적 경사 강하법\n"
      ],
      "metadata": {
        "id": "k-Lzqe37UFPW"
      }
    },
    {
      "cell_type": "markdown",
      "source": [
        "점진적인 학습\n",
        "\n",
        "훈련 데이터가 한 번에 준비되는 것이 아니라 조금씩 전달되는 경우 확률적 경사 강하법 (Stochastic Gradient Descent) 기법 사용"
      ],
      "metadata": {
        "id": "7yZZs0WUUS8j"
      }
    },
    {
      "cell_type": "markdown",
      "source": [
        "# 확률적 경사 하강법\n",
        "- 조금씩 가장 가파른 길을 내려오며, 최적을 찾는 모델 훈련법\n",
        "- 확률적: 랜덤하게 샘플 데이터를 취득\n",
        "- 확률적 경사 하강법: 훈련 세트에서 랜덤하게 하나의 샘플을 선택하여 가파른 경사를 조금 내려감 -> 랜덤하게 다른 샘플 선택하여 경사를 내려감 -> 전체 샘플을 할 때까지 반복\n",
        "- 미니배치 하강법: 샘플을 여러 개 사용\n",
        "- 배치 경사 하강법: 전체 샘플 사용"
      ],
      "metadata": {
        "id": "aGigLQ-oUiXf"
      }
    },
    {
      "cell_type": "markdown",
      "source": [
        "# 손실 함수\n",
        "- 손실 함수(Loss function): 머신러닝 알고리즘이 얼마나 엉터리인지 측정하는 지표로써, 손실 함수의 값이 작을수록 좋음. 하지만, 어떤값이 최소인지 알기 어려움. 가능한 많이 찾아보고 만족할 수준이면 최소값으로 인정"
      ],
      "metadata": {
        "id": "y7f2f-TjVMNt"
      }
    },
    {
      "cell_type": "markdown",
      "source": [
        "# 로지스틱 손실 함수\n",
        "\n",
        "샘플의 예측과 타깃이 아래와 같을 때,\n",
        "\n",
        "<No.> <예측> <타겟>\n",
        "\n",
        "1,      0.9,      1\n",
        "\n",
        "2,      0.3,      1\n",
        "\n",
        "3,      0.2,      0\n",
        "\n",
        "4,      0.8,      0\n",
        "\n",
        "손실 함수는 다음과 같이 계산 한다.\n",
        "1. 0.9 * 1 -> negative -> -0.9\n",
        "2. 0.3 * 1 -> negative -> -0.3\n",
        "3. (1-0.2) * 1 -> negative -> -0.8\n",
        "4. (1-0.8) * 1 -> negative -> -0.2\n",
        "\n",
        "1번, 3번 클래스는 손실이 낮고 2번, 4번 클래스는 손실이 높다.\n",
        "사실, 손실 함수로 로그함수를 적요하면 더 좋습니다. 왜냐하면, 로그 함수는 0에 가까울수록 아주 큰 음수가 되기 때문에 손실을 아주 크게 만들어 모델에 큰 영향을 미칠 수 있기 때문입니다.\n",
        "\n",
        "## 즉, 손실함수를\n",
        "<양성 클래스 (타겟 = 1)>\n",
        "\n",
        "-log(예측 확률)\n",
        "\n",
        "<음성 클래스 (타겟 = 0)>\n",
        "\n",
        "-log(1-예측 확률)"
      ],
      "metadata": {
        "id": "VbzhckjCVmJV"
      }
    },
    {
      "cell_type": "code",
      "source": [
        "## Stochastic Gradient Descent Classifier.\n",
        "\n",
        "# fish_csv_data 파일에서 판다스 데이터프레임 만들기.\n",
        "import pandas as pd\n",
        "fish = pd.read_csv('https://bit.ly/fish_csv_data')"
      ],
      "metadata": {
        "id": "FTaLczS2USTq"
      },
      "execution_count": 1,
      "outputs": []
    },
    {
      "cell_type": "code",
      "source": [
        "# Species 열을 제외한 나머지 5개는 입력 데이터로 사용.\n",
        "# Species 열은 target이 된다.\n",
        "fish_input = fish[['Weight', 'Length', 'Diagonal', 'Height', 'Width']].to_numpy()\n",
        "fish_target = fish['Species'].to_numpy()"
      ],
      "metadata": {
        "id": "al7ORO9LXr9Q"
      },
      "execution_count": 2,
      "outputs": []
    },
    {
      "cell_type": "code",
      "source": [
        "# 훈련 세트와 테스트 세트로 split.\n",
        "from sklearn.model_selection import train_test_split\n",
        "train_input, test_input, train_target, test_target = train_test_split(fish_input, fish_target, random_state = 42)"
      ],
      "metadata": {
        "id": "_ICOABW6YCeH"
      },
      "execution_count": 3,
      "outputs": []
    },
    {
      "cell_type": "code",
      "source": [
        "# 훈련 세트와 테스트 세트의 특성을 \"표준화 전처리\"\n",
        "# 훈련 세트에서 학습한 통계 값으로 테스트 세트도 변환 해야 함!!\n",
        "from sklearn.preprocessing import StandardScaler\n",
        "ss = StandardScaler()\n",
        "ss.fit(train_input)\n",
        "train_scaled = ss.transform(train_input)\n",
        "test_scaled = ss.transform(test_input)"
      ],
      "metadata": {
        "id": "3S4_j3hIYZmw"
      },
      "execution_count": 7,
      "outputs": []
    },
    {
      "cell_type": "code",
      "source": [
        "## Stochastic Gradient Descent Classifier : SGDClassifier (from sklearn)\n",
        "from sklearn.linear_model import SGDClassifier"
      ],
      "metadata": {
        "id": "cSj-Ytz5YzTt"
      },
      "execution_count": 5,
      "outputs": []
    },
    {
      "cell_type": "code",
      "source": [
        "# SGDClassifier의 객체를 만들 때 2개의 매개변수를 지정. loss는 손실 함수의 종류를 지정. (loss를 log함수로 하려면 loss = 'log')\n",
        "# max_iter 지정\n",
        "# 훈련 세트와 테스트 세트에서 정확도 점수 출력\n",
        "sc = SGDClassifier(loss = 'log', max_iter = 10, random_state = 42)\n",
        "sc.fit(train_scaled, train_target)\n",
        "print(sc.score(train_scaled, train_target))\n",
        "print(sc.score(test_scaled, test_target))"
      ],
      "metadata": {
        "colab": {
          "base_uri": "https://localhost:8080/"
        },
        "id": "GEdMysxJZGy4",
        "outputId": "1e5db439-6a5f-452d-a802-0d6a65f9710a"
      },
      "execution_count": 8,
      "outputs": [
        {
          "output_type": "stream",
          "name": "stdout",
          "text": [
            "0.773109243697479\n",
            "0.775\n"
          ]
        },
        {
          "output_type": "stream",
          "name": "stderr",
          "text": [
            "/usr/local/lib/python3.8/dist-packages/sklearn/linear_model/_stochastic_gradient.py:696: ConvergenceWarning: Maximum number of iteration reached before convergence. Consider increasing max_iter to improve the fit.\n",
            "  warnings.warn(\n"
          ]
        }
      ]
    },
    {
      "cell_type": "code",
      "source": [
        "# 확률적 경사 하강법은 점진적 학습이 가능하다.\n",
        "# SGDClassifier 객체를 다시 만들지 않고 훈련 sc를 추가로 더 훈련해 보자\n",
        "sc.partial_fit(train_scaled, train_target)\n",
        "print(sc.score(train_scaled,train_target))\n",
        "print(sc.score(test_scaled,test_target))"
      ],
      "metadata": {
        "colab": {
          "base_uri": "https://localhost:8080/"
        },
        "id": "dt0lciPuZ1ZM",
        "outputId": "41af8c60-8bc8-4fc7-e980-3ffcd5fb784f"
      },
      "execution_count": 10,
      "outputs": [
        {
          "output_type": "stream",
          "name": "stdout",
          "text": [
            "0.8151260504201681\n",
            "0.85\n"
          ]
        }
      ]
    },
    {
      "cell_type": "code",
      "source": [
        "# (한 번 더 해보자.)\n",
        "sc.partial_fit(train_scaled, train_target)\n",
        "print(sc.score(train_scaled,train_target))\n",
        "print(sc.score(test_scaled,test_target))\n",
        "\n",
        "# 이 부분은 교제에는 나와있지 않다.\n",
        "# 결과가 더 나빠진다."
      ],
      "metadata": {
        "colab": {
          "base_uri": "https://localhost:8080/"
        },
        "id": "rtFLP90KaScT",
        "outputId": "cbe0ca7d-458a-4078-9de6-92d3da348839"
      },
      "execution_count": 11,
      "outputs": [
        {
          "output_type": "stream",
          "name": "stdout",
          "text": [
            "0.7815126050420168\n",
            "0.8\n"
          ]
        }
      ]
    },
    {
      "cell_type": "markdown",
      "source": [
        "# 에포크와 과대/과소적합.\n",
        "\n",
        "## 과소적합\n",
        "- 에포크가 적으면 모델이 훈련 세트를 덜 학습\n",
        "\n",
        "## 과대적합\n",
        "- 너무 많은 에포크 횟수 동안 훈련한 모델은 훈련 세트에 너무 잘 맞아 세트스 세트에는 오히려 점수가 나쁠 수 있음.\n",
        "\n",
        "## 조기 종료 early stopping\n",
        "과대적합이 시작하기 전에 훈련을 멈추는 것."
      ],
      "metadata": {
        "id": "I9oppkqPadQ6"
      }
    },
    {
      "cell_type": "code",
      "source": [
        "## 조기 종료.\n",
        "# partial_fit() 메서드만 사용하여 훈련 세트에 있는 전체 클래스의 레이블을 partial_fit() 메서드에 전달한다.\n",
        "# np.unique 이용하여 train_target의 7개 생선 목록을 만든다.\n",
        "# 리스트 두 개를 생성하여 에포크마다 훈련 세트와 테스트 세트에 대한 점수를 기록한다.\n",
        "import numpy as np\n",
        "sc = SGDClassifier(loss = 'log', random_state= 42)\n",
        "train_score = []\n",
        "test_score = []\n",
        "classes = np.unique(train_target)"
      ],
      "metadata": {
        "id": "ULZhl3VRbGnf"
      },
      "execution_count": 13,
      "outputs": []
    },
    {
      "cell_type": "code",
      "source": [
        "# 300 번 에포크 동안 훈련 반복하여 스코어링 해보자.\n",
        "for _ in range(0,300):\n",
        "  sc.partial_fit(train_scaled, train_target, classes=classes)\n",
        "  train_score.append(sc.score(train_scaled, train_target))\n",
        "  test_score.append(sc.score(test_scaled, test_target))"
      ],
      "metadata": {
        "id": "ynXm6kdpbnxt"
      },
      "execution_count": 14,
      "outputs": []
    },
    {
      "cell_type": "code",
      "source": [
        "import matplotlib.pyplot as plt\n",
        "plt.plot(train_score)\n",
        "plt.plot(test_score)\n",
        "plt.xlabel('epoch')\n",
        "plt.ylabel('accuracy')\n",
        "plt.show()\n",
        "\n",
        "# 초기에는 과서적합이 발생한다.\n",
        "# 대략 100 에폭 이후에는 훈련/테스트 점수가 점점 벌어진다."
      ],
      "metadata": {
        "colab": {
          "base_uri": "https://localhost:8080/",
          "height": 279
        },
        "id": "egM4Zn8Ob7bx",
        "outputId": "eb7bc303-7292-453c-c2f0-f8b7a53964f5"
      },
      "execution_count": 16,
      "outputs": [
        {
          "output_type": "display_data",
          "data": {
            "text/plain": [
              "<Figure size 432x288 with 1 Axes>"
            ],
            "image/png": "[encoded data removed]"
          },
          "metadata": {
            "needs_background": "light"
          }
        }
      ]
    },
    {
      "cell_type": "code",
      "source": [
        "# 반복을 100으로 하고 다시.\n",
        "# 원래 SGDClassifier는 일정 에폭 동안 성능 향상 되지 않으면 자동으로 멈춘다. 이를 방지하고, 100 에폭 다 돌기 위하여 tol = None 해준다.\n",
        "sc = SGDClassifier(loss = 'log', max_iter = 100, tol = None, random_state = 42)\n",
        "sc.fit(train_scaled, train_target)\n",
        "print(sc.score(train_scaled,train_target))\n",
        "print(sc.score(test_scaled,test_target))"
      ],
      "metadata": {
        "colab": {
          "base_uri": "https://localhost:8080/"
        },
        "id": "yiFusfVTcgbv",
        "outputId": "a2f97fa3-d546-46e9-fc07-8a03146e6c42"
      },
      "execution_count": 17,
      "outputs": [
        {
          "output_type": "stream",
          "name": "stdout",
          "text": [
            "0.957983193277311\n",
            "0.925\n"
          ]
        }
      ]
    }
  ]
}